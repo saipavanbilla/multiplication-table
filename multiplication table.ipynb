{
 "cells": [
  {
   "cell_type": "code",
   "execution_count": 9,
   "id": "dec4ed90",
   "metadata": {},
   "outputs": [],
   "source": [
    "# multiplication table\n",
    "def multiplication(a,b):\n",
    "    for n in range(0,b+1):\n",
    "        z=a*n\n",
    "        print(\"{}*{}={}\".format(a,n,z))\n",
    "    "
   ]
  },
  {
   "cell_type": "code",
   "execution_count": 10,
   "id": "0de0122f",
   "metadata": {},
   "outputs": [
    {
     "name": "stdout",
     "output_type": "stream",
     "text": [
      "15*0=0\n",
      "15*1=15\n",
      "15*2=30\n",
      "15*3=45\n",
      "15*4=60\n",
      "15*5=75\n",
      "15*6=90\n",
      "15*7=105\n",
      "15*8=120\n",
      "15*9=135\n",
      "15*10=150\n"
     ]
    }
   ],
   "source": [
    "multiplication(15,10)"
   ]
  },
  {
   "cell_type": "code",
   "execution_count": 17,
   "id": "5b62c5b6",
   "metadata": {},
   "outputs": [],
   "source": [
    "# print odd index elements into upper case ?\n",
    "\n",
    "def sun(x):\n",
    "    y=\"\"\n",
    "    for n in range(len(x)):\n",
    "        if n%2!=0:\n",
    "            y+=(x[n].upper())\n",
    "        else:\n",
    "            y+=(x[n].lower())\n",
    "    return y"
   ]
  },
  {
   "cell_type": "code",
   "execution_count": 19,
   "id": "9dcf3a54",
   "metadata": {},
   "outputs": [
    {
     "data": {
      "text/plain": [
       "'aBcDeFgHiJkLmNoPqRsTuVwXyZ'"
      ]
     },
     "execution_count": 19,
     "metadata": {},
     "output_type": "execute_result"
    }
   ],
   "source": [
    "sun(\"abcdefghijklmnopqrstuvwxyz\")"
   ]
  },
  {
   "cell_type": "code",
   "execution_count": 22,
   "id": "a86eb0e3",
   "metadata": {},
   "outputs": [],
   "source": [
    "#. print even index elements into upper case\n",
    "\n",
    "def sun(x):\n",
    "    y=\"\"\n",
    "    for n in range(len(x)):\n",
    "        if n%2==0:\n",
    "            y+=(x[n].upper())\n",
    "        else:\n",
    "            y+=(x[n].lower())\n",
    "    return y"
   ]
  },
  {
   "cell_type": "code",
   "execution_count": 23,
   "id": "5bc38958",
   "metadata": {},
   "outputs": [
    {
     "data": {
      "text/plain": [
       "'AbCdEfGhIjKlMnOpQrStUvWxYz'"
      ]
     },
     "execution_count": 23,
     "metadata": {},
     "output_type": "execute_result"
    }
   ],
   "source": [
    "sun(\"abcdefghijklmnopqrstuvwxyz\")"
   ]
  },
  {
   "cell_type": "code",
   "execution_count": null,
   "id": "18e0879f",
   "metadata": {},
   "outputs": [],
   "source": []
  }
 ],
 "metadata": {
  "kernelspec": {
   "display_name": "Python 3 (ipykernel)",
   "language": "python",
   "name": "python3"
  },
  "language_info": {
   "codemirror_mode": {
    "name": "ipython",
    "version": 3
   },
   "file_extension": ".py",
   "mimetype": "text/x-python",
   "name": "python",
   "nbconvert_exporter": "python",
   "pygments_lexer": "ipython3",
   "version": "3.9.13"
  }
 },
 "nbformat": 4,
 "nbformat_minor": 5
}
